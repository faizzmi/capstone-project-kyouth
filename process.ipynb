{
 "cells": [
  {
   "cell_type": "code",
   "id": "initial_id",
   "metadata": {
    "collapsed": true,
    "ExecuteTime": {
     "end_time": "2025-09-26T09:39:31.190855Z",
     "start_time": "2025-09-26T09:39:30.875885Z"
    }
   },
   "source": [
    "import numpy as np\n",
    "import pandas as pd\n",
    "\n",
    "# 1. Load dataset\n",
    "df = pd.read_csv('data/raw_cleaned/population_dun.csv')\n",
    "\n",
    "# 2. Clean column names\n",
    "df.columns = df.columns.str.strip().str.lower()\n",
    "\n",
    "# 3. Define target columns\n",
    "target_cols = [\"state\", \"parlimen\", \"population\"]   # <-- replace with your columns\n",
    "\n",
    "# 4. Randomly remove 2%–5% per column\n",
    "for col in target_cols:\n",
    "    if col in df.columns:  # check column exists\n",
    "        frac_to_remove = np.random.uniform(0.02, 0.05)  # pick a random %\n",
    "        rows_to_remove = df[df[col].notna()].sample(frac=frac_to_remove, random_state=42).index\n",
    "        df.loc[rows_to_remove, col] = np.nan\n",
    "\n",
    "        print(f\"Removed {len(rows_to_remove)} values (~{frac_to_remove:.2%}) from column '{col}'\")\n",
    "    else:\n",
    "        print(f\"=Column '{col}' not found in dataset\")\n",
    "\n",
    "# 5. Save processed dataset\n",
    "df.to_csv(\"data/process/mcoicop.csv\", index=False)\n",
    "\n",
    "print(\"Processing complete. File saved to data/process/population.csv\")\n"
   ],
   "outputs": [
    {
     "name": "stdout",
     "output_type": "stream",
     "text": [
      "Removed 384 values (~4.27%) from column 'state'\n",
      "Removed 300 values (~3.33%) from column 'parlimen'\n",
      "Removed 279 values (~3.10%) from column 'population'\n",
      "Processing complete. File saved to data/process/population.csv\n"
     ]
    }
   ],
   "execution_count": 4
  },
  {
   "metadata": {},
   "cell_type": "code",
   "outputs": [],
   "execution_count": null,
   "source": "",
   "id": "da0e2c3ec295dacd"
  }
 ],
 "metadata": {
  "kernelspec": {
   "display_name": "Python 3",
   "language": "python",
   "name": "python3"
  },
  "language_info": {
   "codemirror_mode": {
    "name": "ipython",
    "version": 2
   },
   "file_extension": ".py",
   "mimetype": "text/x-python",
   "name": "python",
   "nbconvert_exporter": "python",
   "pygments_lexer": "ipython2",
   "version": "2.7.6"
  }
 },
 "nbformat": 4,
 "nbformat_minor": 5
}
