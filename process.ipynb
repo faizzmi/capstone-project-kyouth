{
 "cells": [
  {
   "cell_type": "code",
   "id": "initial_id",
   "metadata": {
    "collapsed": true,
    "ExecuteTime": {
     "end_time": "2025-09-28T11:45:41.808804Z",
     "start_time": "2025-09-28T11:45:41.772964Z"
    }
   },
   "source": [
    "import numpy as np\n",
    "import pandas as pd\n",
    "\n",
    "# 1. Load dataset\n",
    "df = pd.read_csv('data/raw_cleaned/cpi_2d_lowincome.csv')\n",
    "\n",
    "# 2. Clean column names\n",
    "df.columns = df.columns.str.strip().str.lower()\n",
    "\n",
    "# 3. Define target columns\n",
    "target_cols = [\"index\"]   # <-- replace with your columns\n",
    "\n",
    "# 4. Randomly remove 2%–5% per column\n",
    "for col in target_cols:\n",
    "    if col in df.columns:  # check column exists\n",
    "        frac_to_remove = np.random.uniform(0.02)  # pick a random %\n",
    "        rows_to_remove = df[df[col].notna()].sample(frac=frac_to_remove, random_state=42).index\n",
    "        df.loc[rows_to_remove, col] = np.nan\n",
    "\n",
    "        print(f\"Removed {len(rows_to_remove)} values (~{frac_to_remove:.2%}) from column '{col}'\")\n",
    "    else:\n",
    "        print(f\"=Column '{col}' not found in dataset\")\n",
    "\n",
    "# 5. Save processed dataset\n",
    "df.to_csv(\"data/raw/cpi_2d_lowincome.csv\", index=False)\n"
   ],
   "outputs": [
    {
     "name": "stdout",
     "output_type": "stream",
     "text": [
      "Removed 2206 values (~87.57%) from column 'index'\n"
     ]
    }
   ],
   "execution_count": 3
  },
  {
   "metadata": {},
   "cell_type": "code",
   "outputs": [],
   "execution_count": null,
   "source": "",
   "id": "da0e2c3ec295dacd"
  }
 ],
 "metadata": {
  "kernelspec": {
   "display_name": "Python 3",
   "language": "python",
   "name": "python3"
  },
  "language_info": {
   "codemirror_mode": {
    "name": "ipython",
    "version": 2
   },
   "file_extension": ".py",
   "mimetype": "text/x-python",
   "name": "python",
   "nbconvert_exporter": "python",
   "pygments_lexer": "ipython2",
   "version": "2.7.6"
  }
 },
 "nbformat": 4,
 "nbformat_minor": 5
}
