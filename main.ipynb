{
 "cells": [
  {
   "metadata": {},
   "cell_type": "markdown",
   "source": [
    "# Cost of Living Pressures for Low-Income Households\n",
    "- You may use this template to structure your Capstone Project in Jupyter Notebook.\n",
    "- Feel free to add or remove sections as needed based on your project scope.\n",
    "- You are encouraged to include code cells, Markdown explanations, charts, and summaries to clearly demonstrate your analytical thinking and process."
   ],
   "id": "69f838fcf9aeb7b5"
  },
  {
   "cell_type": "markdown",
   "id": "b4f8a9e3",
   "metadata": {
    "id": "b4f8a9e3"
   },
   "source": [
    "## 1️⃣ Project Title and Introduction:\n",
    "\n",
    "Give your project a meaningful title. Then briefly describe the context or background of your analysis."
   ]
  },
  {
   "cell_type": "markdown",
   "id": "c6686ad2",
   "metadata": {
    "id": "c6686ad2"
   },
   "source": [
    "## 2️⃣ Scoping Your Data Analysis Project\n",
    "\n",
    "- What are the big questions that you are exploring?\n",
    "- What are the datasets and data columns that you will be exploring?\n",
    "- What relationships between the data columns will you be exploring?"
   ]
  },
  {
   "cell_type": "markdown",
   "id": "9204a199",
   "metadata": {
    "id": "9204a199"
   },
   "source": [
    "## 3️⃣Data Preparation"
   ]
  },
  {
   "metadata": {
    "ExecuteTime": {
     "end_time": "2025-09-26T09:43:46.333483Z",
     "start_time": "2025-09-26T09:43:46.175810Z"
    }
   },
   "cell_type": "code",
   "source": [
    "# import libraries\n",
    "import pandas as pd\n",
    "import matplotlib.pyplot as plt\n",
    "import seaborn as sns\n",
    "from scipy.stats import skew\n",
    "\n",
    "# load datasets\n",
    "lowincome_cpi = pd.read_csv(\"data/raw/cpi_2d_lowincome.csv\")\n",
    "statelevel_cpi = pd.read_csv(\"data/raw/cpi_2d_state_inflation.csv\")\n",
    "population = pd.read_csv(\"data/raw/population_dun.csv\")\n",
    "MCOICOP = pd.read_csv(\"data/raw/mcoicop.csv\")\n",
    "\n",
    "# quick inspection function\n",
    "def inspect_dataset(name, df):\n",
    "    print(f\"\\n===== {name} =====\")\n",
    "    print(\"\\nInfo:\")\n",
    "    df.info()\n",
    "    print(\"=\"*50)\n",
    "\n",
    "# inspect all datasets\n",
    "inspect_dataset(\"Low-Income CPI\", lowincome_cpi)\n",
    "inspect_dataset(\"State-Level CPI\", statelevel_cpi)\n",
    "inspect_dataset(\"Population by DUN\", population)\n",
    "inspect_dataset(\"MCOICOP\", MCOICOP)\n",
    "\n"
   ],
   "id": "dc4b9c218ad3d009",
   "outputs": [
    {
     "name": "stdout",
     "output_type": "stream",
     "text": [
      "\n",
      "===== Low-Income CPI =====\n",
      "\n",
      "Info:\n",
      "<class 'pandas.core.frame.DataFrame'>\n",
      "RangeIndex: 2632 entries, 0 to 2631\n",
      "Data columns (total 3 columns):\n",
      " #   Column    Non-Null Count  Dtype  \n",
      "---  ------    --------------  -----  \n",
      " 0   date      2632 non-null   object \n",
      " 1   division  2632 non-null   object \n",
      " 2   index     2519 non-null   float64\n",
      "dtypes: float64(1), object(2)\n",
      "memory usage: 61.8+ KB\n",
      "==================================================\n",
      "\n",
      "===== State-Level CPI =====\n",
      "\n",
      "Info:\n",
      "<class 'pandas.core.frame.DataFrame'>\n",
      "RangeIndex: 41888 entries, 0 to 41887\n",
      "Data columns (total 5 columns):\n",
      " #   Column         Non-Null Count  Dtype  \n",
      "---  ------         --------------  -----  \n",
      " 0   state          41888 non-null  object \n",
      " 1   date           41888 non-null  object \n",
      " 2   division       41888 non-null  object \n",
      " 3   inflation_yoy  39424 non-null  float64\n",
      " 4   inflation_mom  40078 non-null  float64\n",
      "dtypes: float64(2), object(3)\n",
      "memory usage: 1.6+ MB\n",
      "==================================================\n",
      "\n",
      "===== Population by DUN =====\n",
      "\n",
      "Info:\n",
      "<class 'pandas.core.frame.DataFrame'>\n",
      "RangeIndex: 9000 entries, 0 to 8999\n",
      "Data columns (total 8 columns):\n",
      " #   Column      Non-Null Count  Dtype  \n",
      "---  ------      --------------  -----  \n",
      " 0   date        9000 non-null   object \n",
      " 1   state       9000 non-null   object \n",
      " 2   parlimen    9000 non-null   object \n",
      " 3   dun         9000 non-null   object \n",
      " 4   sex         9000 non-null   object \n",
      " 5   age         8591 non-null   object \n",
      " 6   ethnicity   9000 non-null   object \n",
      " 7   population  8612 non-null   float64\n",
      "dtypes: float64(1), object(7)\n",
      "memory usage: 562.6+ KB\n",
      "==================================================\n",
      "\n",
      "===== MCOICOP =====\n",
      "\n",
      "Info:\n",
      "<class 'pandas.core.frame.DataFrame'>\n",
      "RangeIndex: 343 entries, 0 to 342\n",
      "Data columns (total 7 columns):\n",
      " #   Column    Non-Null Count  Dtype  \n",
      "---  ------    --------------  -----  \n",
      " 0   digits    343 non-null    int64  \n",
      " 1   division  343 non-null    object \n",
      " 2   group     329 non-null    float64\n",
      " 3   class     282 non-null    float64\n",
      " 4   subclass  181 non-null    float64\n",
      " 5   desc_en   343 non-null    object \n",
      " 6   desc_bm   343 non-null    object \n",
      "dtypes: float64(3), int64(1), object(3)\n",
      "memory usage: 18.9+ KB\n",
      "==================================================\n"
     ]
    }
   ],
   "execution_count": 100
  },
  {
   "cell_type": "markdown",
   "id": "28d95403",
   "metadata": {
    "id": "28d95403"
   },
   "source": [
    "### Data Cleaning & Data Transformation:\n",
    "\n",
    "- Handle missing values in both datasets (e.g., missing prices, order dates, or last visit dates).\n",
    "\n",
    "\n"
   ]
  },
  {
   "cell_type": "code",
   "id": "bb7fd6fe",
   "metadata": {
    "id": "bb7fd6fe",
    "ExecuteTime": {
     "end_time": "2025-09-26T09:43:48.261751Z",
     "start_time": "2025-09-26T09:43:48.220564Z"
    }
   },
   "source": [
    "# Function for check for duplicates row\n",
    "def identify_duplicates(df):\n",
    "    duplicates = df.duplicated().sum()\n",
    "    print(\"\\nDuplicates:\", duplicates)\n",
    "\n",
    "    if duplicates > 0:\n",
    "         print(\"Duplicate rows found:\")\n",
    "         display(df[df.duplicated(keep=False)])\n",
    "         # remove duplicates row\n",
    "         remove_duplicates(df)\n",
    "\n",
    "# Function for remove duplicates row\n",
    "def remove_duplicates(df):\n",
    "     df.drop_duplicates()\n",
    "\n",
    "     # verify\n",
    "     print(f\"Number of duplicate rows after removal: {df.duplicated().sum()}\")\n",
    "\n",
    "\n",
    "# check for skewed -0.5 and 0.5 → approximately normal, use mean else median\n",
    "def check_skewness(col):\n",
    "    col = pd.to_numeric(col, errors=\"coerce\").dropna()   # drop missing values\n",
    "    n = len(col)\n",
    "    if n < 3:  # too few data\n",
    "        return None\n",
    "\n",
    "    mean = col.mean()\n",
    "    std = col.std()\n",
    "    n = len(col)\n",
    "\n",
    "    skewness = ((col - mean)**3).sum() / n / (std**3)\n",
    "    return skewness\n",
    "\n",
    "# fill the missing data\n",
    "def impute_data(col,method='mean'):\n",
    "    if method == 'mean':\n",
    "        return col.fillna(col.mean())\n",
    "    elif method == 'median':\n",
    "        return col.fillna(col.median())\n",
    "\n",
    "#### low income dataset\n",
    "# 1. check for duplicates\n",
    "identify_duplicates(lowincome_cpi)\n",
    "# 2. check missing values\n",
    "print(\"Missing Values Count:\\n\", lowincome_cpi.isnull().sum())\n",
    "# 3. check skeweness\n",
    "print(\"Skewness (index):\", check_skewness(lowincome_cpi['index']))\n",
    "# 4. fill\n",
    "lowincome_cpi_cleaned = impute_data(lowincome_cpi['index'], method='median')\n",
    "# 5. verify\n",
    "print(\"Missing values after cleaning:\", lowincome_cpi_cleaned.isnull().sum())\n"
   ],
   "outputs": [
    {
     "name": "stdout",
     "output_type": "stream",
     "text": [
      "\n",
      "Duplicates: 0\n",
      "Missing Values Count:\n",
      " date          0\n",
      "division      0\n",
      "index       113\n",
      "dtype: int64\n",
      "Skewness (index): 1.6944989496677305\n",
      "Missing values after cleaning: 0\n"
     ]
    }
   ],
   "execution_count": 101
  },
  {
   "metadata": {
    "ExecuteTime": {
     "end_time": "2025-09-26T09:43:50.261616Z",
     "start_time": "2025-09-26T09:43:50.186532Z"
    }
   },
   "cell_type": "code",
   "source": [
    "#### statelevel_cpi dataset\n",
    "# 1. copy\n",
    "statelevel_cpi_cleaned = statelevel_cpi.copy()\n",
    "\n",
    "# 2. check for duplicates\n",
    "identify_duplicates(statelevel_cpi)\n",
    "\n",
    "# 3. remove_duplicates(df)\n",
    "print(\"Missing Values Count:\\n\", statelevel_cpi.isnull().sum())\n",
    "\n",
    "# 4. check skew\n",
    "print(\"Skewness (index):\", check_skewness(statelevel_cpi['inflation_yoy']))\n",
    "print(\"Skewness (index):\", check_skewness(statelevel_cpi['inflation_mom']))\n",
    "\n",
    "# 5. fill missing data\n",
    "statelevel_cpi_cleaned['inflation_yoy'] = impute_data(statelevel_cpi['inflation_yoy'], method='median')\n",
    "statelevel_cpi_cleaned['inflation_mom'] = impute_data(statelevel_cpi['inflation_mom'], method='median')\n",
    "\n",
    "# 6. verify\n",
    "print(\"Missing values after cleaning:\\n\", statelevel_cpi_cleaned.isnull().sum())"
   ],
   "id": "54a9a41bacc3bee7",
   "outputs": [
    {
     "name": "stdout",
     "output_type": "stream",
     "text": [
      "\n",
      "Duplicates: 0\n",
      "Missing Values Count:\n",
      " state               0\n",
      "date                0\n",
      "division            0\n",
      "inflation_yoy    2464\n",
      "inflation_mom    1810\n",
      "dtype: int64\n",
      "Skewness (index): 1.8073331594698339\n",
      "Skewness (index): 3.5597662693415035\n",
      "Missing values after cleaning:\n",
      " state            0\n",
      "date             0\n",
      "division         0\n",
      "inflation_yoy    0\n",
      "inflation_mom    0\n",
      "dtype: int64\n"
     ]
    }
   ],
   "execution_count": 102
  },
  {
   "metadata": {
    "ExecuteTime": {
     "end_time": "2025-09-26T09:43:52.056634Z",
     "start_time": "2025-09-26T09:43:52.007390Z"
    }
   },
   "cell_type": "code",
   "source": [
    "# population dataset\n",
    "# 1. copy\n",
    "population_cleaned = population.copy()\n",
    "\n",
    "# 2. check for duplicates\n",
    "identify_duplicates(population)\n",
    "\n",
    "# 3. remove_duplicates(df)\n",
    "print(\"Missing Values Count:\\n\", population.isnull().sum())\n",
    "\n",
    "# 4. check skew\n",
    "print(population['age'].nunique)\n",
    "print(\"Skewness (index):\", check_skewness(population['population']))\n",
    "\n",
    "# 5. fill missing data\n",
    "population_cleaned['age'] = population['age'].fillna(\"overall\")\n",
    "population_cleaned['population'] = impute_data(population['population'], method='median')\n",
    "\n",
    "# 6. verify\n",
    "print(\"Missing values after cleaning:\\n\", population_cleaned.isnull().sum())"
   ],
   "id": "e89b7ec8d82ee88d",
   "outputs": [
    {
     "name": "stdout",
     "output_type": "stream",
     "text": [
      "\n",
      "Duplicates: 0\n",
      "Missing Values Count:\n",
      " date            0\n",
      "state           0\n",
      "parlimen        0\n",
      "dun             0\n",
      "sex             0\n",
      "age           409\n",
      "ethnicity       0\n",
      "population    388\n",
      "dtype: int64\n",
      "<bound method IndexOpsMixin.nunique of 0       overall\n",
      "1       overall\n",
      "2       overall\n",
      "3       overall\n",
      "4       overall\n",
      "         ...   \n",
      "8995    overall\n",
      "8996    overall\n",
      "8997    overall\n",
      "8998    overall\n",
      "8999    overall\n",
      "Name: age, Length: 9000, dtype: object>\n",
      "Skewness (index): 3.209489941188062\n",
      "Missing values after cleaning:\n",
      " date          0\n",
      "state         0\n",
      "parlimen      0\n",
      "dun           0\n",
      "sex           0\n",
      "age           0\n",
      "ethnicity     0\n",
      "population    0\n",
      "dtype: int64\n"
     ]
    }
   ],
   "execution_count": 103
  },
  {
   "metadata": {
    "ExecuteTime": {
     "end_time": "2025-09-26T09:44:11.318235Z",
     "start_time": "2025-09-26T09:44:11.268519Z"
    }
   },
   "cell_type": "code",
   "source": [
    "# MCOICOP dataset\n",
    "# 1. copy\n",
    "MCOICOP_cleaned = MCOICOP.copy()\n",
    "\n",
    "# 2. check for duplicates\n",
    "identify_duplicates(MCOICOP)\n",
    "\n",
    "# 3. check missing data\n",
    "print(\"Missing Values Count:\\n\", MCOICOP.isna().sum())\n",
    "MCOICOP.head()\n",
    "# # 4. check skew\n",
    "#\n",
    "# # 5. fill missing data\n",
    "#\n",
    "# # 6. verify\n",
    "# print(\"Missing values after cleaning:\\n\", MCOICOP_cleaned.isnull().sum())"
   ],
   "id": "e41dbe4c4ec91f89",
   "outputs": [
    {
     "name": "stdout",
     "output_type": "stream",
     "text": [
      "\n",
      "Duplicates: 0\n",
      "Missing Values Count:\n",
      " digits        0\n",
      "division      0\n",
      "group        14\n",
      "class        61\n",
      "subclass    162\n",
      "desc_en       0\n",
      "desc_bm       0\n",
      "dtype: int64\n"
     ]
    },
    {
     "data": {
      "text/plain": [
       "   digits division  group  class  subclass              desc_en  \\\n",
       "0       1  overall    NaN    NaN       NaN            All items   \n",
       "1       2       01    NaN    NaN       NaN     Food & Beverages   \n",
       "2       3       01    1.0    NaN       NaN  Food away from home   \n",
       "3       4       01    1.0   11.0       NaN  Food away from home   \n",
       "4       5       01    1.0   11.0     111.0  Food away from home   \n",
       "\n",
       "                 desc_bm  \n",
       "0             Semua item  \n",
       "1      Makanan & Minuman  \n",
       "2  Makanan di luar rumah  \n",
       "3  Makanan di luar rumah  \n",
       "4  Makanan di luar rumah  "
      ],
      "text/html": [
       "<div>\n",
       "<style scoped>\n",
       "    .dataframe tbody tr th:only-of-type {\n",
       "        vertical-align: middle;\n",
       "    }\n",
       "\n",
       "    .dataframe tbody tr th {\n",
       "        vertical-align: top;\n",
       "    }\n",
       "\n",
       "    .dataframe thead th {\n",
       "        text-align: right;\n",
       "    }\n",
       "</style>\n",
       "<table border=\"1\" class=\"dataframe\">\n",
       "  <thead>\n",
       "    <tr style=\"text-align: right;\">\n",
       "      <th></th>\n",
       "      <th>digits</th>\n",
       "      <th>division</th>\n",
       "      <th>group</th>\n",
       "      <th>class</th>\n",
       "      <th>subclass</th>\n",
       "      <th>desc_en</th>\n",
       "      <th>desc_bm</th>\n",
       "    </tr>\n",
       "  </thead>\n",
       "  <tbody>\n",
       "    <tr>\n",
       "      <th>0</th>\n",
       "      <td>1</td>\n",
       "      <td>overall</td>\n",
       "      <td>NaN</td>\n",
       "      <td>NaN</td>\n",
       "      <td>NaN</td>\n",
       "      <td>All items</td>\n",
       "      <td>Semua item</td>\n",
       "    </tr>\n",
       "    <tr>\n",
       "      <th>1</th>\n",
       "      <td>2</td>\n",
       "      <td>01</td>\n",
       "      <td>NaN</td>\n",
       "      <td>NaN</td>\n",
       "      <td>NaN</td>\n",
       "      <td>Food &amp; Beverages</td>\n",
       "      <td>Makanan &amp; Minuman</td>\n",
       "    </tr>\n",
       "    <tr>\n",
       "      <th>2</th>\n",
       "      <td>3</td>\n",
       "      <td>01</td>\n",
       "      <td>1.0</td>\n",
       "      <td>NaN</td>\n",
       "      <td>NaN</td>\n",
       "      <td>Food away from home</td>\n",
       "      <td>Makanan di luar rumah</td>\n",
       "    </tr>\n",
       "    <tr>\n",
       "      <th>3</th>\n",
       "      <td>4</td>\n",
       "      <td>01</td>\n",
       "      <td>1.0</td>\n",
       "      <td>11.0</td>\n",
       "      <td>NaN</td>\n",
       "      <td>Food away from home</td>\n",
       "      <td>Makanan di luar rumah</td>\n",
       "    </tr>\n",
       "    <tr>\n",
       "      <th>4</th>\n",
       "      <td>5</td>\n",
       "      <td>01</td>\n",
       "      <td>1.0</td>\n",
       "      <td>11.0</td>\n",
       "      <td>111.0</td>\n",
       "      <td>Food away from home</td>\n",
       "      <td>Makanan di luar rumah</td>\n",
       "    </tr>\n",
       "  </tbody>\n",
       "</table>\n",
       "</div>"
      ]
     },
     "execution_count": 105,
     "metadata": {},
     "output_type": "execute_result"
    }
   ],
   "execution_count": 105
  },
  {
   "cell_type": "markdown",
   "id": "3c07c5fd",
   "metadata": {
    "id": "3c07c5fd"
   },
   "source": [
    "### Data Manipulation and Data Transformation:\n",
    "- Ensure data types and formatting are consistent.\n",
    "- Create new columns that are helpful for data analysis\n",
    "\n"
   ]
  },
  {
   "cell_type": "code",
   "id": "c6ff5fde",
   "metadata": {
    "id": "c6ff5fde",
    "ExecuteTime": {
     "end_time": "2025-09-26T09:43:35.940486Z",
     "start_time": "2025-09-26T09:43:35.933323Z"
    }
   },
   "source": "",
   "outputs": [],
   "execution_count": null
  },
  {
   "cell_type": "markdown",
   "id": "4c832195",
   "metadata": {
    "id": "4c832195"
   },
   "source": [
    "### Data Joining:\n",
    "\n",
    "- Join the datasets using a unique identifier.\n",
    "- Perform groupby to uncover relationships between variables.\n"
   ]
  },
  {
   "cell_type": "code",
   "id": "a1b3bd19",
   "metadata": {
    "id": "a1b3bd19",
    "ExecuteTime": {
     "end_time": "2025-09-26T09:43:35.966101Z",
     "start_time": "2025-09-26T09:43:35.958926Z"
    }
   },
   "source": "",
   "outputs": [],
   "execution_count": null
  },
  {
   "cell_type": "markdown",
   "id": "0400e116",
   "metadata": {
    "id": "0400e116"
   },
   "source": [
    "## 4️⃣ Exploratory Data Analysis\n",
    "\n",
    "1.   List item\n",
    "2.   List item\n",
    "\n"
   ]
  },
  {
   "cell_type": "markdown",
   "id": "bf9138c5",
   "metadata": {
    "id": "bf9138c5"
   },
   "source": [
    "### Descriptive Analysis:\n",
    "\n",
    "- Explore overall descriptive analysis.\n",
    "- Filter subsets to answer big questions."
   ]
  },
  {
   "cell_type": "code",
   "id": "df245a97",
   "metadata": {
    "id": "df245a97",
    "ExecuteTime": {
     "end_time": "2025-09-26T09:43:35.986167Z",
     "start_time": "2025-09-26T09:43:35.977874Z"
    }
   },
   "source": "",
   "outputs": [],
   "execution_count": null
  },
  {
   "cell_type": "markdown",
   "id": "597352be",
   "metadata": {
    "id": "597352be"
   },
   "source": [
    "### Data Visualisation:\n",
    "- Visualise data in graphs to better understand the data."
   ]
  },
  {
   "cell_type": "code",
   "source": [],
   "metadata": {
    "id": "BebIoEmVSbXQ",
    "ExecuteTime": {
     "end_time": "2025-09-26T09:43:36.006399Z",
     "start_time": "2025-09-26T09:43:36.001525Z"
    }
   },
   "id": "BebIoEmVSbXQ",
   "outputs": [],
   "execution_count": null
  },
  {
   "cell_type": "markdown",
   "id": "1d9d6acc",
   "metadata": {
    "id": "1d9d6acc"
   },
   "source": [
    "\n",
    "\n",
    "```\n",
    "# This is formatted as code\n",
    "```\n",
    "\n",
    "## 5️⃣ Data Insights"
   ]
  },
  {
   "cell_type": "markdown",
   "id": "2b8338ee",
   "metadata": {
    "id": "2b8338ee"
   },
   "source": [
    "- Summarize your main takeaways. What patterns or trends did you find?"
   ]
  },
  {
   "cell_type": "code",
   "id": "66b1859a",
   "metadata": {
    "id": "66b1859a",
    "ExecuteTime": {
     "end_time": "2025-09-26T09:43:36.026278Z",
     "start_time": "2025-09-26T09:43:36.019134Z"
    }
   },
   "source": [],
   "outputs": [],
   "execution_count": null
  }
 ],
 "metadata": {
  "kernelspec": {
   "display_name": "Python 3 (ipykernel)",
   "language": "python",
   "name": "python3"
  },
  "language_info": {
   "codemirror_mode": {
    "name": "ipython",
    "version": 3
   },
   "file_extension": ".py",
   "mimetype": "text/x-python",
   "name": "python",
   "nbconvert_exporter": "python",
   "pygments_lexer": "ipython3",
   "version": "3.9.13"
  },
  "colab": {
   "provenance": []
  }
 },
 "nbformat": 4,
 "nbformat_minor": 5
}
