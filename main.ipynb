{
 "cells": [
  {
   "metadata": {},
   "cell_type": "markdown",
   "source": [
    "# Cost of Living Pressures for Low-Income Households\n",
    "- You may use this template to structure your Capstone Project in Jupyter Notebook.\n",
    "- Feel free to add or remove sections as needed based on your project scope.\n",
    "- You are encouraged to include code cells, Markdown explanations, charts, and summaries to clearly demonstrate your analytical thinking and process."
   ],
   "id": "69f838fcf9aeb7b5"
  },
  {
   "cell_type": "markdown",
   "id": "b4f8a9e3",
   "metadata": {
    "id": "b4f8a9e3"
   },
   "source": [
    "## 1️⃣ Project Title and Introduction:\n",
    "\n",
    "Give your project a meaningful title. Then briefly describe the context or background of your analysis."
   ]
  },
  {
   "cell_type": "markdown",
   "id": "c6686ad2",
   "metadata": {
    "id": "c6686ad2"
   },
   "source": [
    "## 2️⃣ Scoping Your Data Analysis Project\n",
    "\n",
    "- What are the big questions that you are exploring?\n",
    "- What are the datasets and data columns that you will be exploring?\n",
    "- What relationships between the data columns will you be exploring?"
   ]
  },
  {
   "cell_type": "markdown",
   "id": "9204a199",
   "metadata": {
    "id": "9204a199"
   },
   "source": [
    "## 3️⃣Data Preparation"
   ]
  },
  {
   "metadata": {
    "ExecuteTime": {
     "end_time": "2025-09-27T16:26:21.243157Z",
     "start_time": "2025-09-27T16:26:20.956709Z"
    }
   },
   "cell_type": "code",
   "source": [
    "# import libraries\n",
    "import pandas as pd\n",
    "import matplotlib.pyplot as plt\n",
    "import seaborn as sns\n",
    "from scipy.stats import skew\n",
    "\n",
    "# load datasets\n",
    "lowincome_cpi = pd.read_csv(\"data/raw/cpi_2d_lowincome.csv\")\n",
    "statelevel_cpi = pd.read_csv(\"data/raw/cpi_2d_state_inflation.csv\")\n",
    "population = pd.read_csv(\"data/raw/population_dun.csv\")\n",
    "MCOICOP = pd.read_csv(\"data/raw/mcoicop.csv\")\n",
    "\n",
    "# quick inspection function\n",
    "def inspect_dataset(name, df):\n",
    "    print(f\"\\n===== {name} =====\")\n",
    "    print(\"\\nInfo:\")\n",
    "    df.info()\n",
    "    print(\"=\"*50)\n",
    "\n",
    "# inspect all datasets\n",
    "inspect_dataset(\"Low-Income CPI\", lowincome_cpi)\n",
    "inspect_dataset(\"State-Level CPI\", statelevel_cpi)\n",
    "inspect_dataset(\"Population by DUN\", population)\n",
    "inspect_dataset(\"MCOICOP\", MCOICOP)\n",
    "\n"
   ],
   "id": "dc4b9c218ad3d009",
   "outputs": [
    {
     "name": "stdout",
     "output_type": "stream",
     "text": [
      "\n",
      "===== Low-Income CPI =====\n",
      "\n",
      "Info:\n",
      "<class 'pandas.core.frame.DataFrame'>\n",
      "RangeIndex: 2632 entries, 0 to 2631\n",
      "Data columns (total 3 columns):\n",
      " #   Column    Non-Null Count  Dtype  \n",
      "---  ------    --------------  -----  \n",
      " 0   date      2632 non-null   object \n",
      " 1   division  2632 non-null   object \n",
      " 2   index     2519 non-null   float64\n",
      "dtypes: float64(1), object(2)\n",
      "memory usage: 61.8+ KB\n",
      "==================================================\n",
      "\n",
      "===== State-Level CPI =====\n",
      "\n",
      "Info:\n",
      "<class 'pandas.core.frame.DataFrame'>\n",
      "RangeIndex: 41888 entries, 0 to 41887\n",
      "Data columns (total 5 columns):\n",
      " #   Column         Non-Null Count  Dtype  \n",
      "---  ------         --------------  -----  \n",
      " 0   state          41888 non-null  object \n",
      " 1   date           41888 non-null  object \n",
      " 2   division       41888 non-null  object \n",
      " 3   inflation_yoy  39424 non-null  float64\n",
      " 4   inflation_mom  40078 non-null  float64\n",
      "dtypes: float64(2), object(3)\n",
      "memory usage: 1.6+ MB\n",
      "==================================================\n",
      "\n",
      "===== Population by DUN =====\n",
      "\n",
      "Info:\n",
      "<class 'pandas.core.frame.DataFrame'>\n",
      "RangeIndex: 9000 entries, 0 to 8999\n",
      "Data columns (total 8 columns):\n",
      " #   Column      Non-Null Count  Dtype  \n",
      "---  ------      --------------  -----  \n",
      " 0   date        9000 non-null   object \n",
      " 1   state       9000 non-null   object \n",
      " 2   parlimen    9000 non-null   object \n",
      " 3   dun         9000 non-null   object \n",
      " 4   sex         9000 non-null   object \n",
      " 5   age         8591 non-null   object \n",
      " 6   ethnicity   9000 non-null   object \n",
      " 7   population  8612 non-null   float64\n",
      "dtypes: float64(1), object(7)\n",
      "memory usage: 562.6+ KB\n",
      "==================================================\n",
      "\n",
      "===== MCOICOP =====\n",
      "\n",
      "Info:\n",
      "<class 'pandas.core.frame.DataFrame'>\n",
      "RangeIndex: 343 entries, 0 to 342\n",
      "Data columns (total 7 columns):\n",
      " #   Column    Non-Null Count  Dtype  \n",
      "---  ------    --------------  -----  \n",
      " 0   digits    343 non-null    int64  \n",
      " 1   division  343 non-null    object \n",
      " 2   group     329 non-null    float64\n",
      " 3   class     282 non-null    float64\n",
      " 4   subclass  181 non-null    float64\n",
      " 5   desc_en   343 non-null    object \n",
      " 6   desc_bm   343 non-null    object \n",
      "dtypes: float64(3), int64(1), object(3)\n",
      "memory usage: 18.9+ KB\n",
      "==================================================\n"
     ]
    }
   ],
   "execution_count": 294
  },
  {
   "cell_type": "markdown",
   "id": "28d95403",
   "metadata": {
    "id": "28d95403"
   },
   "source": [
    "### Data Cleaning & Data Transformation:\n",
    "\n",
    "- Handle missing values in both datasets (e.g., missing prices, order dates, or last visit dates).\n",
    "\n",
    "\n"
   ]
  },
  {
   "cell_type": "code",
   "id": "bb7fd6fe",
   "metadata": {
    "id": "bb7fd6fe",
    "ExecuteTime": {
     "end_time": "2025-09-27T16:26:21.312875Z",
     "start_time": "2025-09-27T16:26:21.281854Z"
    }
   },
   "source": [
    "# Function for check for duplicates row\n",
    "def identify_duplicates(df):\n",
    "    duplicates = df.duplicated().sum()\n",
    "    print(\"\\nDuplicates:\", duplicates)\n",
    "\n",
    "    if duplicates > 0:\n",
    "         print(\"Duplicate rows found:\")\n",
    "         display(df[df.duplicated(keep=False)])\n",
    "         # remove duplicates row\n",
    "         remove_duplicates(df)\n",
    "\n",
    "# Function for remove duplicates row\n",
    "def remove_duplicates(df):\n",
    "     df.drop_duplicates()\n",
    "\n",
    "     # verify\n",
    "     print(f\"Number of duplicate rows after removal: {df.duplicated().sum()}\")\n",
    "\n",
    "\n",
    "# check for skewed -0.5 and 0.5 → approximately normal, use mean else median\n",
    "def check_skewness(col):\n",
    "    col = pd.to_numeric(col, errors=\"coerce\").dropna()   # drop missing values\n",
    "    n = len(col)\n",
    "    if n < 3:  # too few data\n",
    "        return None\n",
    "\n",
    "    mean = col.mean()\n",
    "    std = col.std()\n",
    "    n = len(col)\n",
    "\n",
    "    skewness = ((col - mean)**3).sum() / n / (std**3)\n",
    "    return skewness\n",
    "\n",
    "# fill the missing data\n",
    "def impute_data(col,method='mean'):\n",
    "    if method == 'mean':\n",
    "        return col.fillna(col.mean())\n",
    "    elif method == 'median':\n",
    "        return col.fillna(col.median())\n",
    "\n",
    "#### low income dataset\n",
    "# 1. copy\n",
    "lowincome_cpi_cleaned = lowincome_cpi.copy()\n",
    "\n",
    "# 1. check for duplicates\n",
    "identify_duplicates(lowincome_cpi)\n",
    "# 2. check missing values\n",
    "print(\"Missing Values Count:\\n\", lowincome_cpi.isnull().sum())\n",
    "# 3. check skeweness\n",
    "print(\"Skewness (index):\", check_skewness(lowincome_cpi['index']))\n",
    "# 4. fill\n",
    "lowincome_cpi_cleaned['index'] = impute_data(lowincome_cpi['index'], method='median')\n",
    "# 5. verify\n",
    "print(\"Missing values after cleaning:\\n\", lowincome_cpi_cleaned.isnull().sum())\n"
   ],
   "outputs": [
    {
     "name": "stdout",
     "output_type": "stream",
     "text": [
      "\n",
      "Duplicates: 0\n",
      "Missing Values Count:\n",
      " date          0\n",
      "division      0\n",
      "index       113\n",
      "dtype: int64\n",
      "Skewness (index): 1.6944989496677305\n",
      "Missing values after cleaning:\n",
      " date        0\n",
      "division    0\n",
      "index       0\n",
      "dtype: int64\n"
     ]
    }
   ],
   "execution_count": 295
  },
  {
   "metadata": {
    "ExecuteTime": {
     "end_time": "2025-09-27T16:26:21.430146Z",
     "start_time": "2025-09-27T16:26:21.350051Z"
    }
   },
   "cell_type": "code",
   "source": [
    "#### statelevel_cpi dataset\n",
    "# 1. copy\n",
    "statelevel_cpi_cleaned = statelevel_cpi.copy()\n",
    "\n",
    "# 2. check for duplicates\n",
    "identify_duplicates(statelevel_cpi)\n",
    "\n",
    "# 3. remove_duplicates(df)\n",
    "print(\"Missing Values Count:\\n\", statelevel_cpi.isnull().sum())\n",
    "\n",
    "# 4. check skew\n",
    "print(\"Skewness (index):\", check_skewness(statelevel_cpi['inflation_yoy']))\n",
    "print(\"Skewness (index):\", check_skewness(statelevel_cpi['inflation_mom']))\n",
    "\n",
    "# 5. fill missing data\n",
    "statelevel_cpi_cleaned['inflation_yoy'] = impute_data(statelevel_cpi['inflation_yoy'], method='median')\n",
    "statelevel_cpi_cleaned['inflation_mom'] = impute_data(statelevel_cpi['inflation_mom'], method='median')\n",
    "\n",
    "# 6. verify\n",
    "print(\"Missing values after cleaning:\\n\", statelevel_cpi_cleaned.isnull().sum())"
   ],
   "id": "54a9a41bacc3bee7",
   "outputs": [
    {
     "name": "stdout",
     "output_type": "stream",
     "text": [
      "\n",
      "Duplicates: 0\n",
      "Missing Values Count:\n",
      " state               0\n",
      "date                0\n",
      "division            0\n",
      "inflation_yoy    2464\n",
      "inflation_mom    1810\n",
      "dtype: int64\n",
      "Skewness (index): 1.8073331594698339\n",
      "Skewness (index): 3.5597662693415035\n",
      "Missing values after cleaning:\n",
      " state            0\n",
      "date             0\n",
      "division         0\n",
      "inflation_yoy    0\n",
      "inflation_mom    0\n",
      "dtype: int64\n"
     ]
    }
   ],
   "execution_count": 296
  },
  {
   "metadata": {
    "ExecuteTime": {
     "end_time": "2025-09-27T16:26:21.481965Z",
     "start_time": "2025-09-27T16:26:21.446587Z"
    }
   },
   "cell_type": "code",
   "source": [
    "# population dataset\n",
    "# 1. copy\n",
    "population_cleaned = population.copy()\n",
    "\n",
    "# 2. check for duplicates\n",
    "identify_duplicates(population)\n",
    "\n",
    "# 3. remove_duplicates(df)\n",
    "print(\"Missing Values Count:\\n\", population.isnull().sum())\n",
    "\n",
    "# 4. check skew\n",
    "print(population['age'].nunique)\n",
    "print(\"Skewness (index):\", check_skewness(population['population']))\n",
    "\n",
    "# 5. fill missing data\n",
    "population_cleaned['age'] = population['age'].fillna(\"overall\")\n",
    "population_cleaned['population'] = impute_data(population['population'], method='median')\n",
    "\n",
    "# 6. verify\n",
    "print(\"Missing values after cleaning:\\n\", population_cleaned.isnull().sum())"
   ],
   "id": "e89b7ec8d82ee88d",
   "outputs": [
    {
     "name": "stdout",
     "output_type": "stream",
     "text": [
      "\n",
      "Duplicates: 0\n",
      "Missing Values Count:\n",
      " date            0\n",
      "state           0\n",
      "parlimen        0\n",
      "dun             0\n",
      "sex             0\n",
      "age           409\n",
      "ethnicity       0\n",
      "population    388\n",
      "dtype: int64\n",
      "<bound method IndexOpsMixin.nunique of 0       overall\n",
      "1       overall\n",
      "2       overall\n",
      "3       overall\n",
      "4       overall\n",
      "         ...   \n",
      "8995    overall\n",
      "8996    overall\n",
      "8997    overall\n",
      "8998    overall\n",
      "8999    overall\n",
      "Name: age, Length: 9000, dtype: object>\n",
      "Skewness (index): 3.209489941188062\n",
      "Missing values after cleaning:\n",
      " date          0\n",
      "state         0\n",
      "parlimen      0\n",
      "dun           0\n",
      "sex           0\n",
      "age           0\n",
      "ethnicity     0\n",
      "population    0\n",
      "dtype: int64\n"
     ]
    }
   ],
   "execution_count": 297
  },
  {
   "metadata": {
    "ExecuteTime": {
     "end_time": "2025-09-27T16:26:21.531847Z",
     "start_time": "2025-09-27T16:26:21.507466Z"
    }
   },
   "cell_type": "code",
   "source": [
    "# 1. copy\n",
    "MCOICOP_cleaned = MCOICOP.copy()\n",
    "\n",
    "# 2. check for duplicates\n",
    "identify_duplicates(MCOICOP)\n",
    "\n",
    "# 3. check missing data\n",
    "print(\"Missing Values Count:\\n\", MCOICOP.isna().sum())\n",
    "MCOICOP.head()\n",
    "\n",
    "# No need to fill missing data\n",
    "# Keep the NaN values because they just show empty levels in the hierarchy, not missing data.\n",
    "#  just fill na so there is no missing vlaues\n",
    "MCOICOP_cleaned = MCOICOP_cleaned.fillna('N/A')\n",
    "\n",
    "# 6. verify\n",
    "print(\"Missing values after cleaning:\\n\", MCOICOP_cleaned.isnull().sum())\n"
   ],
   "id": "e41dbe4c4ec91f89",
   "outputs": [
    {
     "name": "stdout",
     "output_type": "stream",
     "text": [
      "\n",
      "Duplicates: 0\n",
      "Missing Values Count:\n",
      " digits        0\n",
      "division      0\n",
      "group        14\n",
      "class        61\n",
      "subclass    162\n",
      "desc_en       0\n",
      "desc_bm       0\n",
      "dtype: int64\n",
      "Missing values after cleaning:\n",
      " digits      0\n",
      "division    0\n",
      "group       0\n",
      "class       0\n",
      "subclass    0\n",
      "desc_en     0\n",
      "desc_bm     0\n",
      "dtype: int64\n"
     ]
    }
   ],
   "execution_count": 298
  },
  {
   "cell_type": "markdown",
   "id": "3c07c5fd",
   "metadata": {
    "id": "3c07c5fd"
   },
   "source": [
    "### Data Manipulation and Data Transformation:\n",
    "- Ensure data types and formatting are consistent.\n",
    "- Create new columns that are helpful for data analysis\n",
    "\n"
   ]
  },
  {
   "metadata": {
    "ExecuteTime": {
     "end_time": "2025-09-27T16:26:21.611617Z",
     "start_time": "2025-09-27T16:26:21.564706Z"
    }
   },
   "cell_type": "code",
   "source": [
    "# copy\n",
    "statelevel_cpi_manipulated = statelevel_cpi_cleaned.copy()\n",
    "lowincome_cpi_manipulated = lowincome_cpi_cleaned.copy()\n",
    "population_manipulated = population_cleaned.copy()\n",
    "MCOICOP_manipulated = MCOICOP_cleaned.copy()\n",
    "\n",
    "# 1. standardize formating\n",
    "# a. Align Dates Across Datasets\n",
    "for df in [statelevel_cpi_manipulated, lowincome_cpi_manipulated, population_manipulated]:\n",
    "    if \"date\" in df.columns:\n",
    "        df[\"date\"] = pd.to_datetime(df[\"date\"], errors=\"coerce\")\n",
    "\n",
    "# Verify\n",
    "print(\"Date range check:\")\n",
    "# this will check date from earliest date and the latest date\n",
    "print(statelevel_cpi_manipulated[\"date\"].min(), \"to\", statelevel_cpi_manipulated[\"date\"].max())\n",
    "print(lowincome_cpi_manipulated[\"date\"].min(), \"to\", lowincome_cpi_manipulated[\"date\"].max())\n",
    "print(population_manipulated[\"date\"].min(), \"to\", population_manipulated[\"date\"].max())"
   ],
   "id": "103be78b94d485bd",
   "outputs": [
    {
     "name": "stdout",
     "output_type": "stream",
     "text": [
      "Date range check:\n",
      "2010-02-01 00:00:00 to 2025-08-01 00:00:00\n",
      "2010-01-01 00:00:00 to 2025-08-01 00:00:00\n",
      "2020-01-01 00:00:00 to 2022-01-01 00:00:00\n"
     ]
    }
   ],
   "execution_count": 299
  },
  {
   "metadata": {
    "ExecuteTime": {
     "end_time": "2025-09-27T16:26:21.679431Z",
     "start_time": "2025-09-27T16:26:21.636391Z"
    }
   },
   "cell_type": "code",
   "source": [
    "# ba. Ensure categorical types\n",
    "statelevel_cpi_manipulated[\"division\"] = statelevel_cpi_manipulated[\"division\"].astype(str)\n",
    "MCOICOP_manipulated[\"division\"] = MCOICOP_manipulated[\"division\"].astype(str)\n",
    "\n",
    "# Convert group, class, subclass to string (keep N/A if missing)\n",
    "for col in [\"group\", \"class\", \"subclass\"]:\n",
    "    MCOICOP_manipulated[col] = (\n",
    "        MCOICOP_manipulated[col]\n",
    "        .fillna(\"N/A\")           # keep missing as \"N/A\"\n",
    "        .astype(str)             # convert to string\n",
    "        .str.replace(r\"\\.0$\", \"\", regex=True)  # remove .0 from floats like 1.0 → 1\n",
    "    )\n",
    "\n",
    "# bb. Ensure numeric types\n",
    "statelevel_cpi_manipulated[\"inflation_yoy\"] = pd.to_numeric(statelevel_cpi_manipulated[\"inflation_yoy\"], errors=\"coerce\")\n",
    "statelevel_cpi_manipulated[\"inflation_mom\"] = pd.to_numeric(statelevel_cpi_manipulated[\"inflation_mom\"], errors=\"coerce\")\n",
    "population_cleaned[\"population\"] = pd.to_numeric(population_manipulated[\"population\"], errors=\"coerce\")\n",
    "\n",
    "# Verify\n",
    "print(\"Data types:\")\n",
    "print(statelevel_cpi_manipulated.dtypes.head())\n",
    "print(lowincome_cpi_manipulated.dtypes.head())\n",
    "print(MCOICOP_manipulated.head())"
   ],
   "id": "6520ca4ab815883d",
   "outputs": [
    {
     "name": "stdout",
     "output_type": "stream",
     "text": [
      "Data types:\n",
      "state                    object\n",
      "date             datetime64[ns]\n",
      "division                 object\n",
      "inflation_yoy           float64\n",
      "inflation_mom           float64\n",
      "dtype: object\n",
      "date        datetime64[ns]\n",
      "division            object\n",
      "index              float64\n",
      "dtype: object\n",
      "   digits division group class subclass              desc_en  \\\n",
      "0       1  overall   N/A   N/A      N/A            All items   \n",
      "1       2       01   N/A   N/A      N/A     Food & Beverages   \n",
      "2       3       01     1   N/A      N/A  Food away from home   \n",
      "3       4       01     1    11      N/A  Food away from home   \n",
      "4       5       01     1    11      111  Food away from home   \n",
      "\n",
      "                 desc_bm  \n",
      "0             Semua item  \n",
      "1      Makanan & Minuman  \n",
      "2  Makanan di luar rumah  \n",
      "3  Makanan di luar rumah  \n",
      "4  Makanan di luar rumah  \n"
     ]
    }
   ],
   "execution_count": 300
  },
  {
   "metadata": {
    "ExecuteTime": {
     "end_time": "2025-09-27T16:26:21.725633Z",
     "start_time": "2025-09-27T16:26:21.706492Z"
    }
   },
   "cell_type": "code",
   "source": [
    "# 2. Create calculated columns\n",
    "# a. create column for population_ratio\n",
    "population_manipulated[\"pop_ratio\"] = population_manipulated[\"population\"]\n",
    "population_manipulated[\"pop_ratio\"] = population_manipulated[\"population\"] / population_manipulated[\"population\"].sum()\n",
    "\n",
    "# Verify\n",
    "print(\"Calculated columns preview:\")\n",
    "print(population_manipulated.head())"
   ],
   "id": "75e416f88fae0e70",
   "outputs": [
    {
     "name": "stdout",
     "output_type": "stream",
     "text": [
      "Calculated columns preview:\n",
      "        date   state            parlimen               dun     sex      age  \\\n",
      "0 2020-01-01  Perlis  P.001 Padang Besar  N.01 Titi Tinggi    both  overall   \n",
      "1 2020-01-01  Perlis  P.001 Padang Besar  N.01 Titi Tinggi    both  overall   \n",
      "2 2020-01-01  Perlis  P.001 Padang Besar  N.01 Titi Tinggi    both  overall   \n",
      "3 2020-01-01  Perlis  P.001 Padang Besar  N.01 Titi Tinggi  female  overall   \n",
      "4 2020-01-01  Perlis  P.001 Padang Besar  N.01 Titi Tinggi    male  overall   \n",
      "\n",
      "    ethnicity  population  pop_ratio  \n",
      "0     overall      18.696   0.000069  \n",
      "1     citizen      18.193   0.000067  \n",
      "2  noncitizen       0.503   0.000002  \n",
      "3     overall       8.831   0.000033  \n",
      "4     overall       9.865   0.000037  \n"
     ]
    }
   ],
   "execution_count": 301
  },
  {
   "metadata": {
    "ExecuteTime": {
     "end_time": "2025-09-27T16:26:21.782627Z",
     "start_time": "2025-09-27T16:26:21.761755Z"
    }
   },
   "cell_type": "code",
   "source": [
    "# b. Create a mapping for division -> category\n",
    "division_mapping = {\n",
    "    \"01\": \"Makanan & Minuman Bukan Alkohol\",\n",
    "    \"02\": \"Minuman Beralkohol & Tembakau\",\n",
    "    \"03\": \"Pakaian & Alas Kaki\",\n",
    "    \"04\": \"Perumahan, Air, Elektrik, Gas & Bahan Api Lain\",\n",
    "    \"05\": \"Perabot, Peralatan Rumah & Penyelenggaraan Rutin Isi Rumah\",\n",
    "    \"06\": \"Kesihatan\",\n",
    "    \"07\": \"Pengangkutan\",\n",
    "    \"08\": \"Komunikasi\",\n",
    "    \"09\": \"Rekreasi & Kebudayaan\",\n",
    "    \"10\": \"Pendidikan\",\n",
    "    \"11\": \"Restoran & Hotel\",\n",
    "    \"12\": \"Perkhidmatan Kewangan & Insurans\",\n",
    "    \"13\": \"Penjagaan Diri, Perlindungan Sosial & Pelbagai Barangan & Perkhidmatan\"\n",
    "}\n",
    "\n",
    "# Make sure division column is string\n",
    "MCOICOP_manipulated['division'] = MCOICOP_manipulated['division'].astype(str)\n",
    "\n",
    "# Create category column\n",
    "MCOICOP_manipulated['category'] = MCOICOP_manipulated['division'].map(division_mapping)\n",
    "# For overall items (digits == 1), assign \"Semua item\"\n",
    "MCOICOP_manipulated.loc[MCOICOP_manipulated['digits'] == 1, 'category'] = 'Semua item'\n",
    "\n",
    "# Check the result\n",
    "print(MCOICOP_manipulated[['digits', 'division', 'category']].head(20))\n",
    "\n",
    "# performed data quality checks"
   ],
   "id": "c3b352a6943d0f27",
   "outputs": [
    {
     "name": "stdout",
     "output_type": "stream",
     "text": [
      "    digits division                         category\n",
      "0        1  overall                       Semua item\n",
      "1        2       01  Makanan & Minuman Bukan Alkohol\n",
      "2        3       01  Makanan & Minuman Bukan Alkohol\n",
      "3        4       01  Makanan & Minuman Bukan Alkohol\n",
      "4        5       01  Makanan & Minuman Bukan Alkohol\n",
      "5        3       01  Makanan & Minuman Bukan Alkohol\n",
      "6        4       01  Makanan & Minuman Bukan Alkohol\n",
      "7        5       01  Makanan & Minuman Bukan Alkohol\n",
      "8        5       01  Makanan & Minuman Bukan Alkohol\n",
      "9        5       01  Makanan & Minuman Bukan Alkohol\n",
      "10       5       01  Makanan & Minuman Bukan Alkohol\n",
      "11       5       01  Makanan & Minuman Bukan Alkohol\n",
      "12       4       01  Makanan & Minuman Bukan Alkohol\n",
      "13       5       01  Makanan & Minuman Bukan Alkohol\n",
      "14       5       01  Makanan & Minuman Bukan Alkohol\n",
      "15       5       01  Makanan & Minuman Bukan Alkohol\n",
      "16       4       01  Makanan & Minuman Bukan Alkohol\n",
      "17       5       01  Makanan & Minuman Bukan Alkohol\n",
      "18       5       01  Makanan & Minuman Bukan Alkohol\n",
      "19       5       01  Makanan & Minuman Bukan Alkohol\n"
     ]
    }
   ],
   "execution_count": 302
  },
  {
   "metadata": {
    "ExecuteTime": {
     "end_time": "2025-09-27T16:26:21.833800Z",
     "start_time": "2025-09-27T16:26:21.813504Z"
    }
   },
   "cell_type": "code",
   "source": [
    "# 5. Range checks\n",
    "statelevel_cpi_manipulated = statelevel_cpi_manipulated[statelevel_cpi_manipulated[\"inflation_yoy\"].between(-20, 20)]\n",
    "lowincome_cpi_manipulated = lowincome_cpi_manipulated[lowincome_cpi_manipulated[\"index\"].between(50, 200)]\n",
    "\n",
    "# Verify\n",
    "print(\"Inflation range after filtering:\")\n",
    "print(\"State-level:\", statelevel_cpi_manipulated[\"inflation_yoy\"].min(), statelevel_cpi_manipulated[\"inflation_yoy\"].max())\n",
    "print(\"Low-income:\", lowincome_cpi_manipulated[\"index\"].min(), lowincome_cpi_manipulated[\"index\"].max())"
   ],
   "id": "86c6c5ba9efee8c7",
   "outputs": [
    {
     "name": "stdout",
     "output_type": "stream",
     "text": [
      "Inflation range after filtering:\n",
      "State-level: -20.0 20.0\n",
      "Low-income: 85.3 176.9\n"
     ]
    }
   ],
   "execution_count": 303
  },
  {
   "cell_type": "markdown",
   "id": "4c832195",
   "metadata": {
    "id": "4c832195"
   },
   "source": [
    " low_income_cpi_full['index_3m_avg'] = low_income_cpi_full.groupby('division')['index'].transform(lambda x: x.rolling(3).mean())\n",
    "### Data Joining:\n",
    "\n",
    "- Join the datasets using a unique identifier.\n",
    "- Perform groupby to uncover relationships between variables.\n"
   ]
  },
  {
   "cell_type": "code",
   "id": "a1b3bd19",
   "metadata": {
    "id": "a1b3bd19",
    "ExecuteTime": {
     "end_time": "2025-09-27T16:26:21.967494Z",
     "start_time": "2025-09-27T16:26:21.860995Z"
    }
   },
   "source": [
    "# Join 1: State CPI + Population\n",
    "# merge\n",
    "merged_cpi_population = statelevel_cpi_manipulated.merge(\n",
    "    population_manipulated,\n",
    "    # population_manipulated[[\"state\", \"date\", \"pop_ratio\"]],\n",
    "    on=[\"state\", \"date\"],\n",
    "    how=\"left\"\n",
    ")\n",
    "\n",
    "# Drop Null column\n",
    "merged_cpi_population2 = merged_cpi_population.dropna(subset=[\"pop_ratio\"])\n",
    "\n",
    "# iff needed to fill\n",
    "# print(\"Missing Values Count:\\n\", merged_cpi_population2.isnull().sum())\n",
    "# print(\"Skewness (index):\", check_skewness(merged_cpi_population2['pop_ratio']))\n",
    "# lowincome_cpi_cleaned['index'] = impute_data(merged_cpi_population2['pop_ratio'], method='median')\n",
    "\n",
    "# Verify\n",
    "print(merged_cpi_population2.head())\n",
    "\n"
   ],
   "outputs": [
    {
     "name": "stdout",
     "output_type": "stream",
     "text": [
      "     state       date division  inflation_yoy  inflation_mom       parlimen  \\\n",
      "119  Johor 2020-01-01  overall            1.8            0.2  P.140 Segamat   \n",
      "120  Johor 2020-01-01  overall            1.8            0.2  P.140 Segamat   \n",
      "121  Johor 2020-01-01  overall            1.8            0.2  P.140 Segamat   \n",
      "122  Johor 2020-01-01  overall            1.8            0.2  P.140 Segamat   \n",
      "123  Johor 2020-01-01  overall            1.8            0.2  P.140 Segamat   \n",
      "\n",
      "                  dun     sex      age   ethnicity  population  pop_ratio  \n",
      "119  N.01 Buloh Kasap    both  overall     overall     31.9560   0.000118  \n",
      "120  N.01 Buloh Kasap    both  overall     citizen     20.6115   0.000076  \n",
      "121  N.01 Buloh Kasap    both  overall  noncitizen      3.2210   0.000012  \n",
      "122  N.01 Buloh Kasap  female  overall     overall     14.2120   0.000053  \n",
      "123  N.01 Buloh Kasap    male  overall     overall     17.7440   0.000066  \n"
     ]
    }
   ],
   "execution_count": 304
  },
  {
   "metadata": {
    "ExecuteTime": {
     "end_time": "2025-09-27T16:26:22.054751Z",
     "start_time": "2025-09-27T16:26:21.992037Z"
    }
   },
   "cell_type": "code",
   "source": [
    "# Join 2: Low-Income CPI + MCOICOP (for category mapping)\n",
    "merged_lowincome = pd.merge(\n",
    "    lowincome_cpi_manipulated, MCOICOP_manipulated,\n",
    "    # lowincome_cpi_manipulated, MCOICOP_manipulated[[\"division\", \"category\"]],\n",
    "    on=\"division\", how=\"left\"\n",
    ")\n",
    "\n",
    "# Verify\n",
    "# Filter rows where division == \"02\"\n",
    "filtered = merged_lowincome[merged_lowincome[\"division\"] == \"02\"]\n",
    "\n",
    "# Show first few rows\n",
    "print(filtered.head())\n",
    "\n"
   ],
   "id": "e37b79e9194afbf4",
   "outputs": [
    {
     "name": "stdout",
     "output_type": "stream",
     "text": [
      "            date division  index  digits group class subclass  \\\n",
      "14476 2010-01-01       02   98.3       2   N/A   N/A      N/A   \n",
      "14477 2010-01-01       02   98.3       3    21   N/A      N/A   \n",
      "14478 2010-01-01       02   98.3       4    21   211      N/A   \n",
      "14479 2010-01-01       02   98.3       5    21   211     2110   \n",
      "14480 2010-01-01       02   98.3       4    21   212      N/A   \n",
      "\n",
      "                             desc_en                     desc_bm  \\\n",
      "14476  Alcoholic Beverages & Tobacco  Minuman Alkohol & Tembakau   \n",
      "14477            Alcoholic beverages       Minuman keras/alkohol   \n",
      "14478              Spirits & liquors        Arak & minuman keras   \n",
      "14479              Spirits & liquors        Arak & minuman keras   \n",
      "14480                           Wine                        Wain   \n",
      "\n",
      "                            category  \n",
      "14476  Minuman Beralkohol & Tembakau  \n",
      "14477  Minuman Beralkohol & Tembakau  \n",
      "14478  Minuman Beralkohol & Tembakau  \n",
      "14479  Minuman Beralkohol & Tembakau  \n",
      "14480  Minuman Beralkohol & Tembakau  \n"
     ]
    }
   ],
   "execution_count": 305
  },
  {
   "metadata": {
    "ExecuteTime": {
     "end_time": "2025-09-27T16:26:24.663525Z",
     "start_time": "2025-09-27T16:26:22.086319Z"
    }
   },
   "cell_type": "code",
   "source": [
    "# Join 3: State CPI + MCOICOP (Rubric: Data integration with lookup table)\n",
    "merged_state = pd.merge(\n",
    "    statelevel_cpi_manipulated, MCOICOP_manipulated,\n",
    "    # statelevel_cpi_manipulated, MCOICOP_manipulated[[\"division\", \"category\"]],\n",
    "    on=\"division\", how=\"left\"\n",
    ")\n",
    "\n",
    "# Verify\n",
    "print(\"Merged state CPI + MCOICOP:\")\n",
    "print(merged_state.head())"
   ],
   "id": "9dd66be4a7ba0fcb",
   "outputs": [
    {
     "name": "stdout",
     "output_type": "stream",
     "text": [
      "Merged state CPI + MCOICOP:\n",
      "   state       date division  inflation_yoy  inflation_mom  digits group  \\\n",
      "0  Johor 2010-02-01  overall            1.2            0.0       1   N/A   \n",
      "1  Johor 2010-03-01  overall            1.2            0.0       1   N/A   \n",
      "2  Johor 2010-04-01  overall            1.2            0.0       1   N/A   \n",
      "3  Johor 2010-05-01  overall            1.2            0.2       1   N/A   \n",
      "4  Johor 2010-06-01  overall            1.2            0.2       1   N/A   \n",
      "\n",
      "  class subclass    desc_en     desc_bm    category  \n",
      "0   N/A      N/A  All items  Semua item  Semua item  \n",
      "1   N/A      N/A  All items  Semua item  Semua item  \n",
      "2   N/A      N/A  All items  Semua item  Semua item  \n",
      "3   N/A      N/A  All items  Semua item  Semua item  \n",
      "4   N/A      N/A  All items  Semua item  Semua item  \n"
     ]
    }
   ],
   "execution_count": 306
  },
  {
   "cell_type": "markdown",
   "id": "0400e116",
   "metadata": {
    "id": "0400e116"
   },
   "source": [
    "## 4️⃣ Exploratory Data Analysis\n",
    "\n",
    "1. Summarize datasets to understand overall structure and basic stats.\n",
    "2. Focus only on low-income households and relevant periods (2010–2023).\n",
    "3. Segment analysis by state, category, and demographics.\n",
    "\n"
   ]
  },
  {
   "metadata": {
    "ExecuteTime": {
     "end_time": "2025-09-27T16:31:00.281049Z",
     "start_time": "2025-09-27T16:31:00.242294Z"
    }
   },
   "cell_type": "code",
   "source": "",
   "id": "52b47efd1799f8e3",
   "outputs": [],
   "execution_count": null
  },
  {
   "cell_type": "markdown",
   "id": "bf9138c5",
   "metadata": {
    "id": "bf9138c5"
   },
   "source": [
    "+### Descriptive Analysis:\n",
    "\n",
    "- Explore overall descriptive analysis.\n",
    "- Filter subsets to answer big questions."
   ]
  },
  {
   "cell_type": "code",
   "id": "df245a97",
   "metadata": {
    "id": "df245a97",
    "ExecuteTime": {
     "end_time": "2025-09-27T16:26:24.832154Z",
     "start_time": "2025-09-27T16:26:24.826868Z"
    }
   },
   "source": "",
   "outputs": [],
   "execution_count": null
  },
  {
   "cell_type": "markdown",
   "id": "597352be",
   "metadata": {
    "id": "597352be"
   },
   "source": [
    "### Data Visualisation:\n",
    "- Visualise data in graphs to better understand the data."
   ]
  },
  {
   "cell_type": "code",
   "source": [],
   "metadata": {
    "id": "BebIoEmVSbXQ",
    "ExecuteTime": {
     "end_time": "2025-09-27T16:26:24.851383Z",
     "start_time": "2025-09-27T16:26:24.846658Z"
    }
   },
   "id": "BebIoEmVSbXQ",
   "outputs": [],
   "execution_count": null
  },
  {
   "cell_type": "markdown",
   "id": "1d9d6acc",
   "metadata": {
    "id": "1d9d6acc"
   },
   "source": [
    "\n",
    "\n",
    "```\n",
    "# This is formatted as code\n",
    "```\n",
    "\n",
    "## 5️⃣ Data Insights"
   ]
  },
  {
   "cell_type": "markdown",
   "id": "2b8338ee",
   "metadata": {
    "id": "2b8338ee"
   },
   "source": [
    "- Summarize your main takeaways. What patterns or trends did you find?"
   ]
  },
  {
   "cell_type": "code",
   "id": "66b1859a",
   "metadata": {
    "id": "66b1859a",
    "ExecuteTime": {
     "end_time": "2025-09-27T16:26:24.870189Z",
     "start_time": "2025-09-27T16:26:24.865226Z"
    }
   },
   "source": [],
   "outputs": [],
   "execution_count": null
  }
 ],
 "metadata": {
  "kernelspec": {
   "display_name": "Python 3 (ipykernel)",
   "language": "python",
   "name": "python3"
  },
  "language_info": {
   "codemirror_mode": {
    "name": "ipython",
    "version": 3
   },
   "file_extension": ".py",
   "mimetype": "text/x-python",
   "name": "python",
   "nbconvert_exporter": "python",
   "pygments_lexer": "ipython3",
   "version": "3.9.13"
  },
  "colab": {
   "provenance": []
  }
 },
 "nbformat": 4,
 "nbformat_minor": 5
}
