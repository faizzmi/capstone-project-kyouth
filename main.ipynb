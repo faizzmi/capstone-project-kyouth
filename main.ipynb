{
 "cells": [
  {
   "metadata": {},
   "cell_type": "markdown",
   "source": [
    "# Cost of Living Pressures for Low-Income Households\n",
    "- You may use this template to structure your Capstone Project in Jupyter Notebook.\n",
    "- Feel free to add or remove sections as needed based on your project scope.\n",
    "- You are encouraged to include code cells, Markdown explanations, charts, and summaries to clearly demonstrate your analytical thinking and process."
   ],
   "id": "69f838fcf9aeb7b5"
  },
  {
   "cell_type": "markdown",
   "id": "b4f8a9e3",
   "metadata": {
    "id": "b4f8a9e3"
   },
   "source": [
    "## 1️⃣ Project Title and Introduction:\n",
    "\n",
    "Give your project a meaningful title. Then briefly describe the context or background of your analysis."
   ]
  },
  {
   "cell_type": "markdown",
   "id": "c6686ad2",
   "metadata": {
    "id": "c6686ad2"
   },
   "source": [
    "## 2️⃣ Scoping Your Data Analysis Project\n",
    "\n",
    "- What are the big questions that you are exploring?\n",
    "- What are the datasets and data columns that you will be exploring?\n",
    "- What relationships between the data columns will you be exploring?"
   ]
  },
  {
   "cell_type": "markdown",
   "id": "9204a199",
   "metadata": {
    "id": "9204a199"
   },
   "source": [
    "## 3️⃣Data Preparation"
   ]
  },
  {
   "metadata": {
    "ExecuteTime": {
     "end_time": "2025-09-26T01:40:35.144590Z",
     "start_time": "2025-09-26T01:40:35.011353Z"
    }
   },
   "cell_type": "code",
   "source": [
    "# import libraries\n",
    "import pandas as pd\n",
    "import matplotlib.pyplot as plt\n",
    "import seaborn as sns\n",
    "\n",
    "# load datasets\n",
    "lowincome_cpi = pd.read_csv(\"data/raw/cpi_2d_lowincome.csv\")\n",
    "statelevel_cpi = pd.read_csv(\"data/raw/cpi_2d_state_inflation.csv\")\n",
    "population = pd.read_csv(\"data/raw/population_dun.csv\")\n",
    "MCOICOP = pd.read_csv(\"data/raw/mcoicop.csv\")\n",
    "\n",
    "# quick inspection function\n",
    "def inspect_dataset(name, df):\n",
    "    print(f\"\\n===== {name} =====\")\n",
    "    print(\"\\nInfo:\")\n",
    "    df.info()\n",
    "    print(\"=\"*50)\n",
    "\n",
    "# inspect all datasets\n",
    "inspect_dataset(\"Low-Income CPI\", lowincome_cpi)\n",
    "inspect_dataset(\"State-Level CPI\", statelevel_cpi)\n",
    "inspect_dataset(\"Population by DUN\", population)\n",
    "inspect_dataset(\"MCOICOP\", MCOICOP)\n"
   ],
   "id": "dc4b9c218ad3d009",
   "outputs": [
    {
     "name": "stdout",
     "output_type": "stream",
     "text": [
      "\n",
      "===== Low-Income CPI =====\n",
      "\n",
      "Info:\n",
      "<class 'pandas.core.frame.DataFrame'>\n",
      "RangeIndex: 2632 entries, 0 to 2631\n",
      "Data columns (total 3 columns):\n",
      " #   Column    Non-Null Count  Dtype  \n",
      "---  ------    --------------  -----  \n",
      " 0   date      2632 non-null   object \n",
      " 1   division  2632 non-null   object \n",
      " 2   index     2519 non-null   float64\n",
      "dtypes: float64(1), object(2)\n",
      "memory usage: 61.8+ KB\n",
      "==================================================\n",
      "\n",
      "===== State-Level CPI =====\n",
      "\n",
      "Info:\n",
      "<class 'pandas.core.frame.DataFrame'>\n",
      "RangeIndex: 41888 entries, 0 to 41887\n",
      "Data columns (total 5 columns):\n",
      " #   Column         Non-Null Count  Dtype  \n",
      "---  ------         --------------  -----  \n",
      " 0   state          41888 non-null  object \n",
      " 1   date           41888 non-null  object \n",
      " 2   division       41888 non-null  object \n",
      " 3   inflation_yoy  39424 non-null  float64\n",
      " 4   inflation_mom  40078 non-null  float64\n",
      "dtypes: float64(2), object(3)\n",
      "memory usage: 1.6+ MB\n",
      "==================================================\n",
      "\n",
      "===== Population by DUN =====\n",
      "\n",
      "Info:\n",
      "<class 'pandas.core.frame.DataFrame'>\n",
      "RangeIndex: 9000 entries, 0 to 8999\n",
      "Data columns (total 8 columns):\n",
      " #   Column      Non-Null Count  Dtype  \n",
      "---  ------      --------------  -----  \n",
      " 0   date        9000 non-null   object \n",
      " 1   state       9000 non-null   object \n",
      " 2   parlimen    9000 non-null   object \n",
      " 3   dun         9000 non-null   object \n",
      " 4   sex         9000 non-null   object \n",
      " 5   age         8591 non-null   object \n",
      " 6   ethnicity   9000 non-null   object \n",
      " 7   population  8612 non-null   float64\n",
      "dtypes: float64(1), object(7)\n",
      "memory usage: 562.6+ KB\n",
      "==================================================\n",
      "\n",
      "===== MCOICOP =====\n",
      "\n",
      "Info:\n",
      "<class 'pandas.core.frame.DataFrame'>\n",
      "RangeIndex: 343 entries, 0 to 342\n",
      "Data columns (total 7 columns):\n",
      " #   Column    Non-Null Count  Dtype  \n",
      "---  ------    --------------  -----  \n",
      " 0   digits    343 non-null    int64  \n",
      " 1   division  343 non-null    object \n",
      " 2   group     329 non-null    float64\n",
      " 3   class     282 non-null    float64\n",
      " 4   subclass  181 non-null    float64\n",
      " 5   desc_en   329 non-null    object \n",
      " 6   desc_bm   343 non-null    object \n",
      "dtypes: float64(3), int64(1), object(3)\n",
      "memory usage: 18.9+ KB\n",
      "==================================================\n"
     ]
    }
   ],
   "execution_count": 23
  },
  {
   "cell_type": "markdown",
   "id": "28d95403",
   "metadata": {
    "id": "28d95403"
   },
   "source": [
    "### Data Cleaning & Data Transformation:\n",
    "\n",
    "- Handle missing values in both datasets (e.g., missing prices, order dates, or last visit dates).\n",
    "\n",
    "\n"
   ]
  },
  {
   "cell_type": "code",
   "execution_count": null,
   "id": "bb7fd6fe",
   "metadata": {
    "id": "bb7fd6fe"
   },
   "outputs": [],
   "source": ""
  },
  {
   "cell_type": "markdown",
   "id": "3c07c5fd",
   "metadata": {
    "id": "3c07c5fd"
   },
   "source": [
    "### Data Manipulation and Data Transformation:\n",
    "- Ensure data types and formatting are consistent.\n",
    "- Create new columns that are helpful for data analysis\n",
    "\n"
   ]
  },
  {
   "cell_type": "code",
   "execution_count": null,
   "id": "c6ff5fde",
   "metadata": {
    "id": "c6ff5fde"
   },
   "outputs": [],
   "source": ""
  },
  {
   "cell_type": "markdown",
   "id": "4c832195",
   "metadata": {
    "id": "4c832195"
   },
   "source": [
    "### Data Joining:\n",
    "\n",
    "- Join the datasets using a unique identifier.\n",
    "- Perform groupby to uncover relationships between variables.\n"
   ]
  },
  {
   "cell_type": "code",
   "execution_count": null,
   "id": "a1b3bd19",
   "metadata": {
    "id": "a1b3bd19"
   },
   "outputs": [],
   "source": ""
  },
  {
   "cell_type": "markdown",
   "id": "0400e116",
   "metadata": {
    "id": "0400e116"
   },
   "source": [
    "## 4️⃣ Exploratory Data Analysis\n",
    "\n",
    "1.   List item\n",
    "2.   List item\n",
    "\n"
   ]
  },
  {
   "cell_type": "markdown",
   "id": "bf9138c5",
   "metadata": {
    "id": "bf9138c5"
   },
   "source": [
    "### Descriptive Analysis:\n",
    "\n",
    "- Explore overall descriptive analysis.\n",
    "- Filter subsets to answer big questions."
   ]
  },
  {
   "cell_type": "code",
   "execution_count": null,
   "id": "df245a97",
   "metadata": {
    "id": "df245a97"
   },
   "outputs": [],
   "source": ""
  },
  {
   "cell_type": "markdown",
   "id": "597352be",
   "metadata": {
    "id": "597352be"
   },
   "source": [
    "### Data Visualisation:\n",
    "- Visualise data in graphs to better understand the data."
   ]
  },
  {
   "cell_type": "code",
   "source": [],
   "metadata": {
    "id": "BebIoEmVSbXQ"
   },
   "id": "BebIoEmVSbXQ",
   "execution_count": null,
   "outputs": []
  },
  {
   "cell_type": "markdown",
   "id": "1d9d6acc",
   "metadata": {
    "id": "1d9d6acc"
   },
   "source": [
    "\n",
    "\n",
    "```\n",
    "# This is formatted as code\n",
    "```\n",
    "\n",
    "## 5️⃣ Data Insights"
   ]
  },
  {
   "cell_type": "markdown",
   "id": "2b8338ee",
   "metadata": {
    "id": "2b8338ee"
   },
   "source": [
    "- Summarize your main takeaways. What patterns or trends did you find?"
   ]
  },
  {
   "cell_type": "code",
   "execution_count": null,
   "id": "66b1859a",
   "metadata": {
    "id": "66b1859a"
   },
   "outputs": [],
   "source": []
  }
 ],
 "metadata": {
  "kernelspec": {
   "display_name": "Python 3 (ipykernel)",
   "language": "python",
   "name": "python3"
  },
  "language_info": {
   "codemirror_mode": {
    "name": "ipython",
    "version": 3
   },
   "file_extension": ".py",
   "mimetype": "text/x-python",
   "name": "python",
   "nbconvert_exporter": "python",
   "pygments_lexer": "ipython3",
   "version": "3.9.13"
  },
  "colab": {
   "provenance": []
  }
 },
 "nbformat": 4,
 "nbformat_minor": 5
}
